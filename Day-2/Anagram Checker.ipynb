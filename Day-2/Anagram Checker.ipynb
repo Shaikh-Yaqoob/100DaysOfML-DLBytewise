{
 "cells": [
  {
   "cell_type": "code",
   "execution_count": 1,
   "id": "72b57d08-36cc-4cc6-8763-7c8593b43aab",
   "metadata": {},
   "outputs": [],
   "source": [
    "def anagram_checker():\n",
    "    str1 = input(\"Enter first string: \")\n",
    "    str2 = input(\"Enter second string: \")\n",
    "    if sorted(str1) == sorted(str2):\n",
    "        print(f\"{str1} and {str2} are anagrams.\")\n",
    "    else:\n",
    "        print(f\"{str1} and {str2} are not anagrams.\")"
   ]
  },
  {
   "cell_type": "code",
   "execution_count": 2,
   "id": "ab673754-1d63-477a-b659-487f139ebcd9",
   "metadata": {},
   "outputs": [
    {
     "name": "stdin",
     "output_type": "stream",
     "text": [
      "Enter first string:  hello\n",
      "Enter second string:  world\n"
     ]
    },
    {
     "name": "stdout",
     "output_type": "stream",
     "text": [
      "hello and world are not anagrams.\n"
     ]
    }
   ],
   "source": [
    "anagram_checker()"
   ]
  },
  {
   "cell_type": "code",
   "execution_count": null,
   "id": "d61faf65-edae-4a82-975c-7728a79bd97f",
   "metadata": {},
   "outputs": [],
   "source": []
  }
 ],
 "metadata": {
  "kernelspec": {
   "display_name": "Python 3 (ipykernel)",
   "language": "python",
   "name": "python3"
  },
  "language_info": {
   "codemirror_mode": {
    "name": "ipython",
    "version": 3
   },
   "file_extension": ".py",
   "mimetype": "text/x-python",
   "name": "python",
   "nbconvert_exporter": "python",
   "pygments_lexer": "ipython3",
   "version": "3.11.7"
  }
 },
 "nbformat": 4,
 "nbformat_minor": 5
}
