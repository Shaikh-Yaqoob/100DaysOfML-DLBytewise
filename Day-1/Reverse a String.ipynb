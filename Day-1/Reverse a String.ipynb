{
 "cells": [
  {
   "cell_type": "code",
   "execution_count": 1,
   "id": "c2424302-303c-43e3-9614-2718a0a1a59f",
   "metadata": {},
   "outputs": [],
   "source": [
    "def reverse_string():\n",
    "    user_string = input(\"Enter a string: \")\n",
    "    reversed_string = user_string[::-1]\n",
    "    print(\"The reversed string is:\", reversed_string)"
   ]
  },
  {
   "cell_type": "code",
   "execution_count": 2,
   "id": "966f61e1-3bfb-4876-b7db-d5f3f5ce61bf",
   "metadata": {},
   "outputs": [
    {
     "name": "stdin",
     "output_type": "stream",
     "text": [
      "Enter a string:  hello\n"
     ]
    },
    {
     "name": "stdout",
     "output_type": "stream",
     "text": [
      "The reversed string is: olleh\n"
     ]
    }
   ],
   "source": [
    "reverse_string()"
   ]
  },
  {
   "cell_type": "code",
   "execution_count": null,
   "id": "e138aa36-1c55-41a2-b4ea-9da99271db53",
   "metadata": {},
   "outputs": [],
   "source": []
  }
 ],
 "metadata": {
  "kernelspec": {
   "display_name": "Python 3 (ipykernel)",
   "language": "python",
   "name": "python3"
  },
  "language_info": {
   "codemirror_mode": {
    "name": "ipython",
    "version": 3
   },
   "file_extension": ".py",
   "mimetype": "text/x-python",
   "name": "python",
   "nbconvert_exporter": "python",
   "pygments_lexer": "ipython3",
   "version": "3.11.7"
  }
 },
 "nbformat": 4,
 "nbformat_minor": 5
}
