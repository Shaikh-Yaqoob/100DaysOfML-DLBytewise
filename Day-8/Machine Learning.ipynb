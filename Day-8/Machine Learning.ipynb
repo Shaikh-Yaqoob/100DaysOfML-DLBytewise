{
 "cells": [
  {
   "cell_type": "markdown",
   "id": "9d0a388b-9125-4950-b139-d648494b0b6a",
   "metadata": {},
   "source": [
    "Exercise 1"
   ]
  },
  {
   "cell_type": "code",
   "execution_count": 33,
   "id": "fa1f148c-c518-49a7-9905-5c82e9e5fd94",
   "metadata": {},
   "outputs": [],
   "source": [
    "import matplotlib.pyplot as plt"
   ]
  },
  {
   "cell_type": "code",
   "execution_count": 32,
   "id": "936e01c5-c1a0-49a7-9853-276da8f7d9cc",
   "metadata": {},
   "outputs": [],
   "source": [
    "values = [1, 3, 2, 5, 7, 8, 6, 9, 10]\n",
    "time = list(range(1, len(values) + 1))"
   ]
  },
  {
   "cell_type": "code",
   "execution_count": 34,
   "id": "de6de58f-ffea-44d0-8451-7a2d7fb01500",
   "metadata": {},
   "outputs": [],
   "source": [
    "plt.plot(time, values, marker='o')\n",
    "plt.xlabel('Time')\n",
    "plt.ylabel('Values')\n",
    "plt.title('Trend Over Time')\n",
    "plt.show()"
   ]
  },
  {
   "cell_type": "markdown",
   "id": "6c3876bc-e4af-41d7-8d86-e338d887188b",
   "metadata": {},
   "source": [
    "Exercise 2"
   ]
  },
  {
   "cell_type": "code",
   "execution_count": 35,
   "id": "e70c599d-fd78-41aa-a7d6-bfbe8e22c0a6",
   "metadata": {},
   "outputs": [],
   "source": [
    "categories = ['A', 'B', 'C', 'D', 'E']\n",
    "frequencies = [5, 7, 3, 8, 6]"
   ]
  },
  {
   "cell_type": "code",
   "execution_count": 36,
   "id": "c446a72f-c865-4db6-a326-614447f06159",
   "metadata": {},
   "outputs": [],
   "source": [
    "plt.bar(categories, frequencies, color='skyblue')\n",
    "plt.xlabel('Categories')\n",
    "plt.ylabel('Frequencies')\n",
    "plt.title('Frequency of Categories')\n",
    "plt.show()"
   ]
  },
  {
   "cell_type": "markdown",
   "id": "b7112039-e64c-4c79-be49-4c13ec0c2835",
   "metadata": {},
   "source": [
    "Exercise 3"
   ]
  },
  {
   "cell_type": "code",
   "execution_count": 37,
   "id": "319441d0-79b5-4c11-9f60-5563bdd50853",
   "metadata": {},
   "outputs": [],
   "source": [
    "x = [1, 2, 3, 4, 5, 6, 7, 8, 9, 10]\n",
    "y = [2, 3, 5, 7, 11, 13, 17, 19, 23, 29]"
   ]
  },
  {
   "cell_type": "code",
   "execution_count": 38,
   "id": "639894f0-883a-42b4-b3a0-f9a47ad71e27",
   "metadata": {},
   "outputs": [],
   "source": [
    "plt.scatter(x, y, color='green')\n",
    "plt.xlabel('X')\n",
    "plt.ylabel('Y')\n",
    "plt.title('Scatter Plot of X vs Y')\n",
    "plt.show()"
   ]
  },
  {
   "cell_type": "markdown",
   "id": "a9607b96-45d8-4a85-981b-0aec367f0038",
   "metadata": {},
   "source": [
    "Exercise 4"
   ]
  },
  {
   "cell_type": "code",
   "execution_count": 39,
   "id": "e1667ead-8979-4988-bbd6-9b8bf9cbebb7",
   "metadata": {},
   "outputs": [],
   "source": [
    "import seaborn as sns"
   ]
  },
  {
   "cell_type": "code",
   "execution_count": 41,
   "id": "f6882bb4-010b-4853-8f5f-69d41a63fffb",
   "metadata": {},
   "outputs": [],
   "source": [
    "iris = sns.load_dataset('iris')"
   ]
  },
  {
   "cell_type": "code",
   "execution_count": 40,
   "id": "12c47404-f762-4b03-ae35-fc2311c2d494",
   "metadata": {},
   "outputs": [
    {
     "name": "stderr",
     "output_type": "stream",
     "text": [
      "C:\\ANACONDA\\anaconda3\\Lib\\site-packages\\seaborn\\_oldcore.py:1119: FutureWarning: use_inf_as_na option is deprecated and will be removed in a future version. Convert inf values to NaN before operating instead.\n",
      "  with pd.option_context('mode.use_inf_as_na', True):\n",
      "C:\\ANACONDA\\anaconda3\\Lib\\site-packages\\seaborn\\_oldcore.py:1119: FutureWarning: use_inf_as_na option is deprecated and will be removed in a future version. Convert inf values to NaN before operating instead.\n",
      "  with pd.option_context('mode.use_inf_as_na', True):\n",
      "C:\\ANACONDA\\anaconda3\\Lib\\site-packages\\seaborn\\_oldcore.py:1119: FutureWarning: use_inf_as_na option is deprecated and will be removed in a future version. Convert inf values to NaN before operating instead.\n",
      "  with pd.option_context('mode.use_inf_as_na', True):\n",
      "C:\\ANACONDA\\anaconda3\\Lib\\site-packages\\seaborn\\_oldcore.py:1119: FutureWarning: use_inf_as_na option is deprecated and will be removed in a future version. Convert inf values to NaN before operating instead.\n",
      "  with pd.option_context('mode.use_inf_as_na', True):\n"
     ]
    }
   ],
   "source": [
    "sns.pairplot(iris, hue='species')\n",
    "plt.show()"
   ]
  },
  {
   "cell_type": "markdown",
   "id": "6b27188b-c9a3-4b7c-aaa3-2e295835cd3e",
   "metadata": {},
   "source": [
    "Exercise 5"
   ]
  },
  {
   "cell_type": "code",
   "execution_count": 42,
   "id": "08b875c0-d2a4-4c94-8778-4d4b0823a4f4",
   "metadata": {},
   "outputs": [],
   "source": [
    "tips = sns.load_dataset('tips')"
   ]
  },
  {
   "cell_type": "code",
   "execution_count": 43,
   "id": "3cf1a47d-8d76-474e-b01f-7eca083e5b64",
   "metadata": {},
   "outputs": [
    {
     "name": "stderr",
     "output_type": "stream",
     "text": [
      "C:\\ANACONDA\\anaconda3\\Lib\\site-packages\\seaborn\\categorical.py:641: FutureWarning: The default of observed=False is deprecated and will be changed to True in a future version of pandas. Pass observed=False to retain current behavior or observed=True to adopt the future default and silence this warning.\n",
      "  grouped_vals = vals.groupby(grouper)\n"
     ]
    }
   ],
   "source": [
    "sns.boxplot(x='day', y='total_bill', data=tips)\n",
    "plt.xlabel('Day')\n",
    "plt.ylabel('Total Bill')\n",
    "plt.title('Box Plot of Total Bill by Day')\n",
    "plt.show()"
   ]
  },
  {
   "cell_type": "markdown",
   "id": "05664093-2e80-44ad-b800-dc6d5a838ca6",
   "metadata": {},
   "source": [
    "Exercise 6"
   ]
  },
  {
   "cell_type": "code",
   "execution_count": 44,
   "id": "32763974-7a08-4c86-8259-23059ef1a605",
   "metadata": {},
   "outputs": [],
   "source": [
    "corr = iris.drop(columns=['species']).corr()"
   ]
  },
  {
   "cell_type": "code",
   "execution_count": 45,
   "id": "d9e2ff24-8805-4a4c-b938-74233ad46440",
   "metadata": {},
   "outputs": [],
   "source": [
    "sns.heatmap(corr, annot=True, cmap='coolwarm')\n",
    "plt.title('Correlation Matrix Heatmap')\n",
    "plt.show()"
   ]
  },
  {
   "cell_type": "markdown",
   "id": "da704567-d99e-4d8c-bb16-9cea0f70b1ad",
   "metadata": {},
   "source": [
    "Exercise 7"
   ]
  },
  {
   "cell_type": "code",
   "execution_count": 46,
   "id": "a43d28c0-6916-4f51-9c9f-85b8369924f4",
   "metadata": {},
   "outputs": [],
   "source": [
    "import seaborn as sns"
   ]
  },
  {
   "cell_type": "code",
   "execution_count": 47,
   "id": "2dc959de-0286-4d2d-96eb-7b69ec70a15f",
   "metadata": {},
   "outputs": [],
   "source": [
    "import matplotlib\n",
    "matplotlib.use('TkAgg') \n",
    "import matplotlib.pyplot as plt"
   ]
  },
  {
   "cell_type": "code",
   "execution_count": 48,
   "id": "525e7b41-93bd-410e-85c9-d5d21b756d8b",
   "metadata": {},
   "outputs": [],
   "source": [
    "# Create a figure with a 2x2 grid of subplots\n",
    "fig, axes = plt.subplots(2, 2, figsize=(15, 10))"
   ]
  },
  {
   "cell_type": "code",
   "execution_count": 49,
   "id": "8999a975-9fba-4254-af95-bdbd6dbf6eca",
   "metadata": {},
   "outputs": [
    {
     "data": {
      "text/plain": [
       "Text(0.5, 1.0, 'Sepal Length vs. Sepal Width')"
      ]
     },
     "execution_count": 49,
     "metadata": {},
     "output_type": "execute_result"
    }
   ],
   "source": [
    "# Scatter plot of sepal length vs. sepal width\n",
    "sns.scatterplot(x='sepal_length', y='sepal_width', data=iris, ax=axes[0, 0])\n",
    "axes[0, 0].set_title('Sepal Length vs. Sepal Width')"
   ]
  },
  {
   "cell_type": "code",
   "execution_count": 50,
   "id": "b661e715-01e9-478a-ae0b-ff41a5fcef1b",
   "metadata": {},
   "outputs": [
    {
     "data": {
      "text/plain": [
       "Text(0.5, 1.0, 'Petal Length vs. Petal Width')"
      ]
     },
     "execution_count": 50,
     "metadata": {},
     "output_type": "execute_result"
    }
   ],
   "source": [
    "# Scatter plot of petal length vs. petal width\n",
    "sns.scatterplot(x='petal_length', y='petal_width', data=iris, ax=axes[0, 1])\n",
    "axes[0, 1].set_title('Petal Length vs. Petal Width')"
   ]
  },
  {
   "cell_type": "code",
   "execution_count": 51,
   "id": "10060e31-cb5d-4de6-a85d-2e4cbc9e90b4",
   "metadata": {},
   "outputs": [
    {
     "name": "stderr",
     "output_type": "stream",
     "text": [
      "C:\\ANACONDA\\anaconda3\\Lib\\site-packages\\seaborn\\_oldcore.py:1119: FutureWarning: use_inf_as_na option is deprecated and will be removed in a future version. Convert inf values to NaN before operating instead.\n",
      "  with pd.option_context('mode.use_inf_as_na', True):\n"
     ]
    },
    {
     "data": {
      "text/plain": [
       "Text(0.5, 1.0, 'Histogram of Sepal Length')"
      ]
     },
     "execution_count": 51,
     "metadata": {},
     "output_type": "execute_result"
    }
   ],
   "source": [
    "# Histogram of sepal length\n",
    "sns.histplot(iris['sepal_length'], kde=True, ax=axes[1, 0])\n",
    "axes[1, 0].set_title('Histogram of Sepal Length')"
   ]
  },
  {
   "cell_type": "code",
   "execution_count": 52,
   "id": "a7aa18a7-4786-4faa-af48-05efce8cbc9c",
   "metadata": {},
   "outputs": [
    {
     "data": {
      "text/plain": [
       "Text(0.5, 1.0, 'Box Plot of Sepal Length by Species')"
      ]
     },
     "execution_count": 52,
     "metadata": {},
     "output_type": "execute_result"
    }
   ],
   "source": [
    "# Box plot of sepal length grouped by species\n",
    "sns.boxplot(x='species', y='sepal_length', data=iris, ax=axes[1, 1])\n",
    "axes[1, 1].set_title('Box Plot of Sepal Length by Species')"
   ]
  },
  {
   "cell_type": "code",
   "execution_count": 53,
   "id": "22747e65-a201-4421-8505-efc14ed01b37",
   "metadata": {},
   "outputs": [],
   "source": [
    "plt.tight_layout()\n",
    "plt.show()"
   ]
  },
  {
   "cell_type": "markdown",
   "id": "f0cf7732-81f1-461c-b995-3d7fa6e0aa95",
   "metadata": {},
   "source": [
    "Exercise 8"
   ]
  },
  {
   "cell_type": "code",
   "execution_count": 54,
   "id": "139bc1b3-080e-4953-8564-7b25c3a8b8a4",
   "metadata": {},
   "outputs": [],
   "source": [
    "titanic = sns.load_dataset('titanic')"
   ]
  },
  {
   "cell_type": "code",
   "execution_count": 56,
   "id": "779e1d2c-7266-4a5a-a67f-91dd2de1b43f",
   "metadata": {},
   "outputs": [
    {
     "name": "stderr",
     "output_type": "stream",
     "text": [
      "C:\\ANACONDA\\anaconda3\\Lib\\site-packages\\seaborn\\categorical.py:641: FutureWarning: The default of observed=False is deprecated and will be changed to True in a future version of pandas. Pass observed=False to retain current behavior or observed=True to adopt the future default and silence this warning.\n",
      "  grouped_vals = vals.groupby(grouper)\n"
     ]
    }
   ],
   "source": [
    "sns.set_palette('pastel')\n",
    "sns.violinplot(x='class', y='age', data=titanic, inner='quartile')\n",
    "plt.xlabel('Class')\n",
    "plt.ylabel('Age')\n",
    "plt.title('Violin Plot of Age by Class')\n",
    "plt.show()"
   ]
  },
  {
   "cell_type": "markdown",
   "id": "0eb954a7-6cbe-4278-afb2-b1f54a2bea5c",
   "metadata": {},
   "source": [
    "Exercise 9"
   ]
  },
  {
   "cell_type": "code",
   "execution_count": 58,
   "id": "0783bf6f-3659-4906-b771-09009a5c7122",
   "metadata": {},
   "outputs": [
    {
     "name": "stderr",
     "output_type": "stream",
     "text": [
      "C:\\ANACONDA\\anaconda3\\Lib\\site-packages\\seaborn\\categorical.py:641: FutureWarning: The default of observed=False is deprecated and will be changed to True in a future version of pandas. Pass observed=False to retain current behavior or observed=True to adopt the future default and silence this warning.\n",
      "  grouped_vals = vals.groupby(grouper)\n"
     ]
    }
   ],
   "source": [
    " sns.violinplot(x='day', y='total_bill', data=tips)\n",
    "plt.xlabel('Day')\n",
    "plt.ylabel('Total Bill')\n",
    "plt.title('Violin Plot of Total Bill by Day')\n",
    "plt.show()"
   ]
  },
  {
   "cell_type": "markdown",
   "id": "e4f4f7b5-edc6-4420-bbd5-70490bfa35c2",
   "metadata": {},
   "source": [
    "Exercise 10"
   ]
  },
  {
   "cell_type": "code",
   "execution_count": 59,
   "id": "0f69938e-49b6-4dca-9f5c-eeec85ba6e0c",
   "metadata": {},
   "outputs": [
    {
     "name": "stderr",
     "output_type": "stream",
     "text": [
      "C:\\ANACONDA\\anaconda3\\Lib\\site-packages\\seaborn\\_oldcore.py:1119: FutureWarning: use_inf_as_na option is deprecated and will be removed in a future version. Convert inf values to NaN before operating instead.\n",
      "  with pd.option_context('mode.use_inf_as_na', True):\n"
     ]
    }
   ],
   "source": [
    "sns.histplot(tips['total_bill'], kde=True)\n",
    "plt.xlabel('Total Bill')\n",
    "plt.ylabel('Frequency')\n",
    "plt.title('Histogram with KDE Overlay')\n",
    "plt.show()"
   ]
  },
  {
   "cell_type": "code",
   "execution_count": null,
   "id": "8d56689a-c1b1-4664-a737-b9694b897f20",
   "metadata": {},
   "outputs": [],
   "source": []
  }
 ],
 "metadata": {
  "kernelspec": {
   "display_name": "Python 3 (ipykernel)",
   "language": "python",
   "name": "python3"
  },
  "language_info": {
   "codemirror_mode": {
    "name": "ipython",
    "version": 3
   },
   "file_extension": ".py",
   "mimetype": "text/x-python",
   "name": "python",
   "nbconvert_exporter": "python",
   "pygments_lexer": "ipython3",
   "version": "3.11.7"
  }
 },
 "nbformat": 4,
 "nbformat_minor": 5
}
