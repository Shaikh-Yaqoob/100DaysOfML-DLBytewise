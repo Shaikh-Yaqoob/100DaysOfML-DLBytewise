{
 "cells": [
  {
   "cell_type": "code",
   "execution_count": 1,
   "id": "425172f4-9d1f-4b3a-8873-a84108c9d38e",
   "metadata": {},
   "outputs": [],
   "source": [
    "import re"
   ]
  },
  {
   "cell_type": "code",
   "execution_count": 2,
   "id": "96aca6ba-fb13-46cb-b90d-268c7caac80c",
   "metadata": {},
   "outputs": [],
   "source": [
    "def palindrome_sentences():\n",
    "    sentence = input(\"Enter a sentence: \")\n",
    "    cleaned_sentence = re.sub(r'[^A-Za-z]', '', sentence).lower()\n",
    "    if cleaned_sentence == cleaned_sentence[::-1]:\n",
    "        print(f\"{sentence} is a palindrome.\")\n",
    "    else:\n",
    "        print(f\"{sentence} is not a palindrome.\")"
   ]
  },
  {
   "cell_type": "code",
   "execution_count": 6,
   "id": "92953b43-b7a9-4036-9e1f-eb3cfed4413e",
   "metadata": {},
   "outputs": [
    {
     "name": "stdin",
     "output_type": "stream",
     "text": [
      "Enter a sentence:  racecar racecar\n"
     ]
    },
    {
     "name": "stdout",
     "output_type": "stream",
     "text": [
      "racecar racecar is a palindrome.\n"
     ]
    }
   ],
   "source": [
    "palindrome_sentences()"
   ]
  },
  {
   "cell_type": "code",
   "execution_count": null,
   "id": "7ba5d7ea-37a0-4de1-ba4d-d83549dd4480",
   "metadata": {},
   "outputs": [],
   "source": []
  }
 ],
 "metadata": {
  "kernelspec": {
   "display_name": "Python 3 (ipykernel)",
   "language": "python",
   "name": "python3"
  },
  "language_info": {
   "codemirror_mode": {
    "name": "ipython",
    "version": 3
   },
   "file_extension": ".py",
   "mimetype": "text/x-python",
   "name": "python",
   "nbconvert_exporter": "python",
   "pygments_lexer": "ipython3",
   "version": "3.11.7"
  }
 },
 "nbformat": 4,
 "nbformat_minor": 5
}
