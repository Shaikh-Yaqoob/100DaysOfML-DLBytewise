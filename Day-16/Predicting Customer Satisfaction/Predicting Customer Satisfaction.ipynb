{
 "cells": [
  {
   "cell_type": "code",
   "execution_count": 46,
   "id": "62150cdf-5864-400e-9394-ab09189a6eac",
   "metadata": {},
   "outputs": [],
   "source": [
    "import pandas as pd"
   ]
  },
  {
   "cell_type": "code",
   "execution_count": 47,
   "id": "d8c282ef-4894-40c8-9e2c-9d29448346e2",
   "metadata": {},
   "outputs": [],
   "source": [
    "data = pd.read_csv('restaurant_customer_satisfaction.csv')"
   ]
  },
  {
   "cell_type": "code",
   "execution_count": 48,
   "id": "04eb2963-4cc5-41dd-b8d6-787ef5036ad6",
   "metadata": {},
   "outputs": [
    {
     "data": {
      "text/html": [
       "<div>\n",
       "<style scoped>\n",
       "    .dataframe tbody tr th:only-of-type {\n",
       "        vertical-align: middle;\n",
       "    }\n",
       "\n",
       "    .dataframe tbody tr th {\n",
       "        vertical-align: top;\n",
       "    }\n",
       "\n",
       "    .dataframe thead th {\n",
       "        text-align: right;\n",
       "    }\n",
       "</style>\n",
       "<table border=\"1\" class=\"dataframe\">\n",
       "  <thead>\n",
       "    <tr style=\"text-align: right;\">\n",
       "      <th></th>\n",
       "      <th>CustomerID</th>\n",
       "      <th>Age</th>\n",
       "      <th>Gender</th>\n",
       "      <th>Income</th>\n",
       "      <th>VisitFrequency</th>\n",
       "      <th>AverageSpend</th>\n",
       "      <th>PreferredCuisine</th>\n",
       "      <th>TimeOfVisit</th>\n",
       "      <th>GroupSize</th>\n",
       "      <th>DiningOccasion</th>\n",
       "      <th>MealType</th>\n",
       "      <th>OnlineReservation</th>\n",
       "      <th>DeliveryOrder</th>\n",
       "      <th>LoyaltyProgramMember</th>\n",
       "      <th>WaitTime</th>\n",
       "      <th>ServiceRating</th>\n",
       "      <th>FoodRating</th>\n",
       "      <th>AmbianceRating</th>\n",
       "      <th>HighSatisfaction</th>\n",
       "    </tr>\n",
       "  </thead>\n",
       "  <tbody>\n",
       "    <tr>\n",
       "      <th>0</th>\n",
       "      <td>654</td>\n",
       "      <td>35</td>\n",
       "      <td>Male</td>\n",
       "      <td>83380</td>\n",
       "      <td>Weekly</td>\n",
       "      <td>27.829142</td>\n",
       "      <td>Chinese</td>\n",
       "      <td>Breakfast</td>\n",
       "      <td>3</td>\n",
       "      <td>Business</td>\n",
       "      <td>Takeaway</td>\n",
       "      <td>0</td>\n",
       "      <td>1</td>\n",
       "      <td>1</td>\n",
       "      <td>43.523929</td>\n",
       "      <td>2</td>\n",
       "      <td>5</td>\n",
       "      <td>4</td>\n",
       "      <td>0</td>\n",
       "    </tr>\n",
       "    <tr>\n",
       "      <th>1</th>\n",
       "      <td>655</td>\n",
       "      <td>19</td>\n",
       "      <td>Male</td>\n",
       "      <td>43623</td>\n",
       "      <td>Rarely</td>\n",
       "      <td>115.408622</td>\n",
       "      <td>American</td>\n",
       "      <td>Dinner</td>\n",
       "      <td>1</td>\n",
       "      <td>Casual</td>\n",
       "      <td>Dine-in</td>\n",
       "      <td>0</td>\n",
       "      <td>0</td>\n",
       "      <td>0</td>\n",
       "      <td>57.524294</td>\n",
       "      <td>5</td>\n",
       "      <td>5</td>\n",
       "      <td>3</td>\n",
       "      <td>0</td>\n",
       "    </tr>\n",
       "    <tr>\n",
       "      <th>2</th>\n",
       "      <td>656</td>\n",
       "      <td>41</td>\n",
       "      <td>Female</td>\n",
       "      <td>83737</td>\n",
       "      <td>Weekly</td>\n",
       "      <td>106.693771</td>\n",
       "      <td>American</td>\n",
       "      <td>Dinner</td>\n",
       "      <td>6</td>\n",
       "      <td>Celebration</td>\n",
       "      <td>Dine-in</td>\n",
       "      <td>0</td>\n",
       "      <td>1</td>\n",
       "      <td>0</td>\n",
       "      <td>48.682623</td>\n",
       "      <td>3</td>\n",
       "      <td>4</td>\n",
       "      <td>5</td>\n",
       "      <td>0</td>\n",
       "    </tr>\n",
       "    <tr>\n",
       "      <th>3</th>\n",
       "      <td>657</td>\n",
       "      <td>43</td>\n",
       "      <td>Male</td>\n",
       "      <td>96768</td>\n",
       "      <td>Rarely</td>\n",
       "      <td>43.508508</td>\n",
       "      <td>Indian</td>\n",
       "      <td>Lunch</td>\n",
       "      <td>1</td>\n",
       "      <td>Celebration</td>\n",
       "      <td>Dine-in</td>\n",
       "      <td>0</td>\n",
       "      <td>0</td>\n",
       "      <td>0</td>\n",
       "      <td>7.552993</td>\n",
       "      <td>4</td>\n",
       "      <td>5</td>\n",
       "      <td>1</td>\n",
       "      <td>0</td>\n",
       "    </tr>\n",
       "    <tr>\n",
       "      <th>4</th>\n",
       "      <td>658</td>\n",
       "      <td>55</td>\n",
       "      <td>Female</td>\n",
       "      <td>67937</td>\n",
       "      <td>Monthly</td>\n",
       "      <td>148.084627</td>\n",
       "      <td>Chinese</td>\n",
       "      <td>Breakfast</td>\n",
       "      <td>1</td>\n",
       "      <td>Business</td>\n",
       "      <td>Takeaway</td>\n",
       "      <td>0</td>\n",
       "      <td>0</td>\n",
       "      <td>1</td>\n",
       "      <td>37.789041</td>\n",
       "      <td>2</td>\n",
       "      <td>3</td>\n",
       "      <td>5</td>\n",
       "      <td>0</td>\n",
       "    </tr>\n",
       "  </tbody>\n",
       "</table>\n",
       "</div>"
      ],
      "text/plain": [
       "   CustomerID  Age  Gender  Income VisitFrequency  AverageSpend  \\\n",
       "0         654   35    Male   83380         Weekly     27.829142   \n",
       "1         655   19    Male   43623         Rarely    115.408622   \n",
       "2         656   41  Female   83737         Weekly    106.693771   \n",
       "3         657   43    Male   96768         Rarely     43.508508   \n",
       "4         658   55  Female   67937        Monthly    148.084627   \n",
       "\n",
       "  PreferredCuisine TimeOfVisit  GroupSize DiningOccasion  MealType  \\\n",
       "0          Chinese   Breakfast          3       Business  Takeaway   \n",
       "1         American      Dinner          1         Casual   Dine-in   \n",
       "2         American      Dinner          6    Celebration   Dine-in   \n",
       "3           Indian       Lunch          1    Celebration   Dine-in   \n",
       "4          Chinese   Breakfast          1       Business  Takeaway   \n",
       "\n",
       "   OnlineReservation  DeliveryOrder  LoyaltyProgramMember   WaitTime  \\\n",
       "0                  0              1                     1  43.523929   \n",
       "1                  0              0                     0  57.524294   \n",
       "2                  0              1                     0  48.682623   \n",
       "3                  0              0                     0   7.552993   \n",
       "4                  0              0                     1  37.789041   \n",
       "\n",
       "   ServiceRating  FoodRating  AmbianceRating  HighSatisfaction  \n",
       "0              2           5               4                 0  \n",
       "1              5           5               3                 0  \n",
       "2              3           4               5                 0  \n",
       "3              4           5               1                 0  \n",
       "4              2           3               5                 0  "
      ]
     },
     "execution_count": 48,
     "metadata": {},
     "output_type": "execute_result"
    }
   ],
   "source": [
    "data.head()"
   ]
  },
  {
   "cell_type": "code",
   "execution_count": 49,
   "id": "ce260187-0fb6-4f20-802e-aa465f3806ec",
   "metadata": {},
   "outputs": [
    {
     "name": "stdout",
     "output_type": "stream",
     "text": [
      "<class 'pandas.core.frame.DataFrame'>\n",
      "RangeIndex: 1500 entries, 0 to 1499\n",
      "Data columns (total 19 columns):\n",
      " #   Column                Non-Null Count  Dtype  \n",
      "---  ------                --------------  -----  \n",
      " 0   CustomerID            1500 non-null   int64  \n",
      " 1   Age                   1500 non-null   int64  \n",
      " 2   Gender                1500 non-null   object \n",
      " 3   Income                1500 non-null   int64  \n",
      " 4   VisitFrequency        1500 non-null   object \n",
      " 5   AverageSpend          1500 non-null   float64\n",
      " 6   PreferredCuisine      1500 non-null   object \n",
      " 7   TimeOfVisit           1500 non-null   object \n",
      " 8   GroupSize             1500 non-null   int64  \n",
      " 9   DiningOccasion        1500 non-null   object \n",
      " 10  MealType              1500 non-null   object \n",
      " 11  OnlineReservation     1500 non-null   int64  \n",
      " 12  DeliveryOrder         1500 non-null   int64  \n",
      " 13  LoyaltyProgramMember  1500 non-null   int64  \n",
      " 14  WaitTime              1500 non-null   float64\n",
      " 15  ServiceRating         1500 non-null   int64  \n",
      " 16  FoodRating            1500 non-null   int64  \n",
      " 17  AmbianceRating        1500 non-null   int64  \n",
      " 18  HighSatisfaction      1500 non-null   int64  \n",
      "dtypes: float64(2), int64(11), object(6)\n",
      "memory usage: 222.8+ KB\n"
     ]
    }
   ],
   "source": [
    "data.info()"
   ]
  },
  {
   "cell_type": "code",
   "execution_count": 50,
   "id": "40209f99-94d9-4349-9973-ab854e45b474",
   "metadata": {},
   "outputs": [
    {
     "data": {
      "text/plain": [
       "CustomerID              0\n",
       "Age                     0\n",
       "Gender                  0\n",
       "Income                  0\n",
       "VisitFrequency          0\n",
       "AverageSpend            0\n",
       "PreferredCuisine        0\n",
       "TimeOfVisit             0\n",
       "GroupSize               0\n",
       "DiningOccasion          0\n",
       "MealType                0\n",
       "OnlineReservation       0\n",
       "DeliveryOrder           0\n",
       "LoyaltyProgramMember    0\n",
       "WaitTime                0\n",
       "ServiceRating           0\n",
       "FoodRating              0\n",
       "AmbianceRating          0\n",
       "HighSatisfaction        0\n",
       "dtype: int64"
      ]
     },
     "execution_count": 50,
     "metadata": {},
     "output_type": "execute_result"
    }
   ],
   "source": [
    "data.isnull().sum()"
   ]
  },
  {
   "cell_type": "code",
   "execution_count": 51,
   "id": "e5a8e7db-028c-4023-a8df-e9bfcfd91041",
   "metadata": {},
   "outputs": [],
   "source": [
    "threshold = data['HighSatisfaction'].mean()\n",
    "data['HighSatisfaction'] = data['HighSatisfaction'].apply(lambda x: 1 if x >= threshold else 0)\n",
    "data['HighSatisfaction'] = data['HighSatisfaction'].astype(int)"
   ]
  },
  {
   "cell_type": "code",
   "execution_count": 52,
   "id": "a631dba0-e77f-42d1-83ab-b9566fcfbd80",
   "metadata": {},
   "outputs": [],
   "source": [
    "from sklearn.preprocessing import OneHotEncoder"
   ]
  },
  {
   "cell_type": "code",
   "execution_count": 53,
   "id": "d3e5d7c6-1264-43ee-a943-5ed1536b757f",
   "metadata": {},
   "outputs": [],
   "source": [
    "categorical_cols = data.select_dtypes(include=['object']).columns\n",
    "numerical_cols = data.select_dtypes(include=['float64', 'int64']).columns"
   ]
  },
  {
   "cell_type": "code",
   "execution_count": 54,
   "id": "5bafc1ad-1db4-4158-b467-9ad209704d20",
   "metadata": {},
   "outputs": [],
   "source": [
    "encoder = OneHotEncoder(drop='first', sparse=False)"
   ]
  },
  {
   "cell_type": "code",
   "execution_count": 55,
   "id": "80d6b3ac-6fc3-49af-a99d-d54c01e61e70",
   "metadata": {},
   "outputs": [
    {
     "name": "stderr",
     "output_type": "stream",
     "text": [
      "C:\\ANACONDA\\anaconda3\\Lib\\site-packages\\sklearn\\preprocessing\\_encoders.py:868: FutureWarning: `sparse` was renamed to `sparse_output` in version 1.2 and will be removed in 1.4. `sparse_output` is ignored unless you leave `sparse` to its default value.\n",
      "  warnings.warn(\n"
     ]
    }
   ],
   "source": [
    "encoded = encoder.fit_transform(data[categorical_cols])"
   ]
  },
  {
   "cell_type": "code",
   "execution_count": 56,
   "id": "958c7c42-d26b-47ec-b296-17b1fd004fee",
   "metadata": {},
   "outputs": [],
   "source": [
    "encoded_df = pd.DataFrame(encoded, columns=encoder.get_feature_names_out(categorical_cols))"
   ]
  },
  {
   "cell_type": "code",
   "execution_count": 57,
   "id": "7898a9a5-adb8-421c-b9f8-7f067f2dc959",
   "metadata": {},
   "outputs": [],
   "source": [
    "data = data.drop(categorical_cols, axis=1)\n",
    "data = pd.concat([data, encoded_df], axis=1)"
   ]
  },
  {
   "cell_type": "code",
   "execution_count": 58,
   "id": "51616a33-a315-470e-a751-9c6dc7728a5a",
   "metadata": {},
   "outputs": [],
   "source": [
    "from sklearn.preprocessing import StandardScaler"
   ]
  },
  {
   "cell_type": "code",
   "execution_count": 59,
   "id": "d78a9c65-5884-4c0c-a818-f8fb415a8dfb",
   "metadata": {},
   "outputs": [],
   "source": [
    "scaler = StandardScaler()\n",
    "data[numerical_cols] = scaler.fit_transform(data[numerical_cols])"
   ]
  },
  {
   "cell_type": "code",
   "execution_count": 60,
   "id": "fa006265-518a-4bb7-97fb-421c069bc620",
   "metadata": {},
   "outputs": [],
   "source": [
    "from sklearn.model_selection import train_test_split"
   ]
  },
  {
   "cell_type": "code",
   "execution_count": 61,
   "id": "4cbeef37-9e97-469f-8ea2-44255db0bd74",
   "metadata": {},
   "outputs": [],
   "source": [
    "x = data.drop('HighSatisfaction', axis=1)\n",
    "y = data['HighSatisfaction']"
   ]
  },
  {
   "cell_type": "code",
   "execution_count": 62,
   "id": "4f1ab05b-3026-4d1e-887d-8bface064fda",
   "metadata": {},
   "outputs": [],
   "source": [
    "x_train, x_test, y_train, y_test = train_test_split(x, y, test_size=0.3, random_state=42)"
   ]
  },
  {
   "cell_type": "code",
   "execution_count": 63,
   "id": "e6fe2b48-1e36-4eed-9a91-f6e9417b4bff",
   "metadata": {},
   "outputs": [],
   "source": [
    "from sklearn.linear_model import LogisticRegression\n",
    "from sklearn.metrics import accuracy_score, confusion_matrix"
   ]
  },
  {
   "cell_type": "code",
   "execution_count": 64,
   "id": "b57b0887-45da-4edd-9032-803a2e40bd16",
   "metadata": {},
   "outputs": [
    {
     "data": {
      "text/html": [
       "<style>#sk-container-id-1 {color: black;background-color: white;}#sk-container-id-1 pre{padding: 0;}#sk-container-id-1 div.sk-toggleable {background-color: white;}#sk-container-id-1 label.sk-toggleable__label {cursor: pointer;display: block;width: 100%;margin-bottom: 0;padding: 0.3em;box-sizing: border-box;text-align: center;}#sk-container-id-1 label.sk-toggleable__label-arrow:before {content: \"▸\";float: left;margin-right: 0.25em;color: #696969;}#sk-container-id-1 label.sk-toggleable__label-arrow:hover:before {color: black;}#sk-container-id-1 div.sk-estimator:hover label.sk-toggleable__label-arrow:before {color: black;}#sk-container-id-1 div.sk-toggleable__content {max-height: 0;max-width: 0;overflow: hidden;text-align: left;background-color: #f0f8ff;}#sk-container-id-1 div.sk-toggleable__content pre {margin: 0.2em;color: black;border-radius: 0.25em;background-color: #f0f8ff;}#sk-container-id-1 input.sk-toggleable__control:checked~div.sk-toggleable__content {max-height: 200px;max-width: 100%;overflow: auto;}#sk-container-id-1 input.sk-toggleable__control:checked~label.sk-toggleable__label-arrow:before {content: \"▾\";}#sk-container-id-1 div.sk-estimator input.sk-toggleable__control:checked~label.sk-toggleable__label {background-color: #d4ebff;}#sk-container-id-1 div.sk-label input.sk-toggleable__control:checked~label.sk-toggleable__label {background-color: #d4ebff;}#sk-container-id-1 input.sk-hidden--visually {border: 0;clip: rect(1px 1px 1px 1px);clip: rect(1px, 1px, 1px, 1px);height: 1px;margin: -1px;overflow: hidden;padding: 0;position: absolute;width: 1px;}#sk-container-id-1 div.sk-estimator {font-family: monospace;background-color: #f0f8ff;border: 1px dotted black;border-radius: 0.25em;box-sizing: border-box;margin-bottom: 0.5em;}#sk-container-id-1 div.sk-estimator:hover {background-color: #d4ebff;}#sk-container-id-1 div.sk-parallel-item::after {content: \"\";width: 100%;border-bottom: 1px solid gray;flex-grow: 1;}#sk-container-id-1 div.sk-label:hover label.sk-toggleable__label {background-color: #d4ebff;}#sk-container-id-1 div.sk-serial::before {content: \"\";position: absolute;border-left: 1px solid gray;box-sizing: border-box;top: 0;bottom: 0;left: 50%;z-index: 0;}#sk-container-id-1 div.sk-serial {display: flex;flex-direction: column;align-items: center;background-color: white;padding-right: 0.2em;padding-left: 0.2em;position: relative;}#sk-container-id-1 div.sk-item {position: relative;z-index: 1;}#sk-container-id-1 div.sk-parallel {display: flex;align-items: stretch;justify-content: center;background-color: white;position: relative;}#sk-container-id-1 div.sk-item::before, #sk-container-id-1 div.sk-parallel-item::before {content: \"\";position: absolute;border-left: 1px solid gray;box-sizing: border-box;top: 0;bottom: 0;left: 50%;z-index: -1;}#sk-container-id-1 div.sk-parallel-item {display: flex;flex-direction: column;z-index: 1;position: relative;background-color: white;}#sk-container-id-1 div.sk-parallel-item:first-child::after {align-self: flex-end;width: 50%;}#sk-container-id-1 div.sk-parallel-item:last-child::after {align-self: flex-start;width: 50%;}#sk-container-id-1 div.sk-parallel-item:only-child::after {width: 0;}#sk-container-id-1 div.sk-dashed-wrapped {border: 1px dashed gray;margin: 0 0.4em 0.5em 0.4em;box-sizing: border-box;padding-bottom: 0.4em;background-color: white;}#sk-container-id-1 div.sk-label label {font-family: monospace;font-weight: bold;display: inline-block;line-height: 1.2em;}#sk-container-id-1 div.sk-label-container {text-align: center;}#sk-container-id-1 div.sk-container {/* jupyter's `normalize.less` sets `[hidden] { display: none; }` but bootstrap.min.css set `[hidden] { display: none !important; }` so we also need the `!important` here to be able to override the default hidden behavior on the sphinx rendered scikit-learn.org. See: https://github.com/scikit-learn/scikit-learn/issues/21755 */display: inline-block !important;position: relative;}#sk-container-id-1 div.sk-text-repr-fallback {display: none;}</style><div id=\"sk-container-id-1\" class=\"sk-top-container\"><div class=\"sk-text-repr-fallback\"><pre>LogisticRegression()</pre><b>In a Jupyter environment, please rerun this cell to show the HTML representation or trust the notebook. <br />On GitHub, the HTML representation is unable to render, please try loading this page with nbviewer.org.</b></div><div class=\"sk-container\" hidden><div class=\"sk-item\"><div class=\"sk-estimator sk-toggleable\"><input class=\"sk-toggleable__control sk-hidden--visually\" id=\"sk-estimator-id-1\" type=\"checkbox\" checked><label for=\"sk-estimator-id-1\" class=\"sk-toggleable__label sk-toggleable__label-arrow\">LogisticRegression</label><div class=\"sk-toggleable__content\"><pre>LogisticRegression()</pre></div></div></div></div></div>"
      ],
      "text/plain": [
       "LogisticRegression()"
      ]
     },
     "execution_count": 64,
     "metadata": {},
     "output_type": "execute_result"
    }
   ],
   "source": [
    "model = LogisticRegression()\n",
    "model.fit(x_train, y_train)"
   ]
  },
  {
   "cell_type": "code",
   "execution_count": 65,
   "id": "e51d0793-17b0-45f3-be6f-8e3a867125aa",
   "metadata": {},
   "outputs": [
    {
     "data": {
      "text/plain": [
       "array([0, 1])"
      ]
     },
     "execution_count": 65,
     "metadata": {},
     "output_type": "execute_result"
    }
   ],
   "source": [
    "data['HighSatisfaction'].unique()"
   ]
  },
  {
   "cell_type": "code",
   "execution_count": 66,
   "id": "e0d009a5-0d62-4d1f-af64-51be4f9632cb",
   "metadata": {},
   "outputs": [],
   "source": [
    "y_pred = model.predict(x_test)"
   ]
  },
  {
   "cell_type": "code",
   "execution_count": 67,
   "id": "b8424241-e28c-4ce6-b926-963b4e951702",
   "metadata": {},
   "outputs": [
    {
     "name": "stdout",
     "output_type": "stream",
     "text": [
      "Accuracy: 0.8955555555555555\n"
     ]
    }
   ],
   "source": [
    "accuracy = accuracy_score(y_test, y_pred)\n",
    "print('Accuracy:',accuracy)"
   ]
  },
  {
   "cell_type": "code",
   "execution_count": 68,
   "id": "0662d9a1-c4cb-45de-8733-53062a8f95bc",
   "metadata": {},
   "outputs": [
    {
     "name": "stdout",
     "output_type": "stream",
     "text": [
      "Confusion Matrix:\n",
      " [[371  19]\n",
      " [ 28  32]]\n"
     ]
    }
   ],
   "source": [
    "conf_matrix = confusion_matrix(y_test, y_pred)\n",
    "print('Confusion Matrix:\\n',conf_matrix)"
   ]
  },
  {
   "cell_type": "code",
   "execution_count": null,
   "id": "758172a5-cf28-4823-93fd-1e146b60624d",
   "metadata": {},
   "outputs": [],
   "source": []
  }
 ],
 "metadata": {
  "kernelspec": {
   "display_name": "Python 3 (ipykernel)",
   "language": "python",
   "name": "python3"
  },
  "language_info": {
   "codemirror_mode": {
    "name": "ipython",
    "version": 3
   },
   "file_extension": ".py",
   "mimetype": "text/x-python",
   "name": "python",
   "nbconvert_exporter": "python",
   "pygments_lexer": "ipython3",
   "version": "3.11.7"
  }
 },
 "nbformat": 4,
 "nbformat_minor": 5
}
