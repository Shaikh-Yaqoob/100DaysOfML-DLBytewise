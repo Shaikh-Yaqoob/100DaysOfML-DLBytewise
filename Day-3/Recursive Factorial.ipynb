{
 "cells": [
  {
   "cell_type": "code",
   "execution_count": 1,
   "id": "51adcec5-af96-4a67-8552-fb3424249550",
   "metadata": {},
   "outputs": [],
   "source": [
    " def recursive_factorial(n):\n",
    "    if n == 0:\n",
    "        return 1\n",
    "    return n * recursive_factorial(n - 1)"
   ]
  },
  {
   "cell_type": "code",
   "execution_count": 2,
   "id": "ddc41de3-b88e-4474-86b3-9be6b642a2c3",
   "metadata": {},
   "outputs": [
    {
     "name": "stdout",
     "output_type": "stream",
     "text": [
      "The factorial of 5 is 120\n"
     ]
    }
   ],
   "source": [
    "n = 5\n",
    "print(f\"The factorial of {n} is {recursive_factorial(n)}\")"
   ]
  },
  {
   "cell_type": "code",
   "execution_count": null,
   "id": "24bf4d82-6c91-4d03-9875-54eb3ec0f368",
   "metadata": {},
   "outputs": [],
   "source": []
  }
 ],
 "metadata": {
  "kernelspec": {
   "display_name": "Python 3 (ipykernel)",
   "language": "python",
   "name": "python3"
  },
  "language_info": {
   "codemirror_mode": {
    "name": "ipython",
    "version": 3
   },
   "file_extension": ".py",
   "mimetype": "text/x-python",
   "name": "python",
   "nbconvert_exporter": "python",
   "pygments_lexer": "ipython3",
   "version": "3.11.7"
  }
 },
 "nbformat": 4,
 "nbformat_minor": 5
}
