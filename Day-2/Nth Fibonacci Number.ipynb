{
 "cells": [
  {
   "cell_type": "code",
   "execution_count": 1,
   "id": "9aecb292-e2ca-4ccf-8967-af9d2f62c97a",
   "metadata": {},
   "outputs": [],
   "source": [
    "def nth_fibonacci_number():\n",
    "    n = int(input(\"Enter a term number: \"))\n",
    "    a, b = 0, 1\n",
    "    for _ in range(n - 1):\n",
    "        a, b = b, a + b\n",
    "    print(f\"The {n}th Fibonacci number is {a}.\")"
   ]
  },
  {
   "cell_type": "code",
   "execution_count": 6,
   "id": "9e97b7c9-d8b8-4291-a3b9-61c81334afb4",
   "metadata": {},
   "outputs": [
    {
     "name": "stdin",
     "output_type": "stream",
     "text": [
      "Enter a term number:  6\n"
     ]
    },
    {
     "name": "stdout",
     "output_type": "stream",
     "text": [
      "The 6th Fibonacci number is 5.\n"
     ]
    }
   ],
   "source": [
    "nth_fibonacci_number()"
   ]
  },
  {
   "cell_type": "code",
   "execution_count": null,
   "id": "ff4d3224-95ab-4820-bc62-c10c162c5d2a",
   "metadata": {},
   "outputs": [],
   "source": []
  }
 ],
 "metadata": {
  "kernelspec": {
   "display_name": "Python 3 (ipykernel)",
   "language": "python",
   "name": "python3"
  },
  "language_info": {
   "codemirror_mode": {
    "name": "ipython",
    "version": 3
   },
   "file_extension": ".py",
   "mimetype": "text/x-python",
   "name": "python",
   "nbconvert_exporter": "python",
   "pygments_lexer": "ipython3",
   "version": "3.11.7"
  }
 },
 "nbformat": 4,
 "nbformat_minor": 5
}
