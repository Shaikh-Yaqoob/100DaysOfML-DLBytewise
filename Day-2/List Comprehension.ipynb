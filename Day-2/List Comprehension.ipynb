{
 "cells": [
  {
   "cell_type": "code",
   "execution_count": 1,
   "id": "45332b6b-7f39-4394-bbc0-54c4c3626586",
   "metadata": {},
   "outputs": [],
   "source": [
    "def list_comprehension():\n",
    "    squares = [i ** 2 for i in range(1, 11)]\n",
    "    print(squares)"
   ]
  },
  {
   "cell_type": "code",
   "execution_count": 4,
   "id": "cf4ec376-f2d9-44e9-a195-8df9bf5850b6",
   "metadata": {},
   "outputs": [
    {
     "name": "stdout",
     "output_type": "stream",
     "text": [
      "[1, 4, 9, 16, 25, 36, 49, 64, 81, 100]\n"
     ]
    }
   ],
   "source": [
    "list_comprehension()"
   ]
  },
  {
   "cell_type": "code",
   "execution_count": null,
   "id": "03ff7deb-a274-4360-baa5-aea564e67cda",
   "metadata": {},
   "outputs": [],
   "source": []
  }
 ],
 "metadata": {
  "kernelspec": {
   "display_name": "Python 3 (ipykernel)",
   "language": "python",
   "name": "python3"
  },
  "language_info": {
   "codemirror_mode": {
    "name": "ipython",
    "version": 3
   },
   "file_extension": ".py",
   "mimetype": "text/x-python",
   "name": "python",
   "nbconvert_exporter": "python",
   "pygments_lexer": "ipython3",
   "version": "3.11.7"
  }
 },
 "nbformat": 4,
 "nbformat_minor": 5
}
