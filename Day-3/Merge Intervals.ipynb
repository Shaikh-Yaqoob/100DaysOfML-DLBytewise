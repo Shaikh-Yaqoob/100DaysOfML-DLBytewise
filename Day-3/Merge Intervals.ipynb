{
 "cells": [
  {
   "cell_type": "code",
   "execution_count": 3,
   "id": "2c2d29a4-a043-4ea7-84b6-52868f3d5757",
   "metadata": {},
   "outputs": [],
   "source": [
    "def merge_intervals(intervals):\n",
    "    intervals.sort(key=lambda x: x[0])\n",
    "    merged = []\n",
    "    for interval in intervals:\n",
    "        if not merged or merged[-1][1] < interval[0]:\n",
    "            merged.append(list(interval))\n",
    "        else:\n",
    "            merged[-1][1] = max(merged[-1][1], interval[1])\n",
    "    return [tuple(interval) for interval in merged]"
   ]
  },
  {
   "cell_type": "code",
   "execution_count": 4,
   "id": "72756259-5ea5-4a0e-a1e8-cd5c5bfa94ac",
   "metadata": {},
   "outputs": [
    {
     "name": "stdout",
     "output_type": "stream",
     "text": [
      "\n",
      "Merged intervals: [(1, 6), (8, 10), (15, 18)]\n"
     ]
    }
   ],
   "source": [
    "intervals = [(1, 3), (2, 6), (8, 10), (15, 18)]\n",
    "print(f\"\\nMerged intervals: {merge_intervals(intervals)}\")"
   ]
  },
  {
   "cell_type": "code",
   "execution_count": null,
   "id": "623d30d2-b4cb-4dfc-8376-bae8a83d416c",
   "metadata": {},
   "outputs": [],
   "source": []
  }
 ],
 "metadata": {
  "kernelspec": {
   "display_name": "Python 3 (ipykernel)",
   "language": "python",
   "name": "python3"
  },
  "language_info": {
   "codemirror_mode": {
    "name": "ipython",
    "version": 3
   },
   "file_extension": ".py",
   "mimetype": "text/x-python",
   "name": "python",
   "nbconvert_exporter": "python",
   "pygments_lexer": "ipython3",
   "version": "3.11.7"
  }
 },
 "nbformat": 4,
 "nbformat_minor": 5
}
