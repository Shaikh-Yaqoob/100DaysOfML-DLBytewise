{
 "cells": [
  {
   "cell_type": "code",
   "execution_count": 1,
   "id": "381d0e8e-55c0-4fad-bdc8-7d43f65d7010",
   "metadata": {},
   "outputs": [],
   "source": [
    "def fibonacci_sequence():\n",
    "    n_terms = int(input(\"How many terms? \"))\n",
    "    n1, n2 = 0, 1\n",
    "    count = 0\n",
    "    \n",
    "    if n_terms <= 0:\n",
    "        print(\"Please enter a positive integer\")\n",
    "    elif n_terms == 1:\n",
    "        print(\"Fibonacci sequence:\")\n",
    "        print(n1)\n",
    "    else:\n",
    "        print(\"Fibonacci sequence:\")\n",
    "        while count < n_terms:\n",
    "            print(n1, end=' ')\n",
    "            nth = n1 + n2\n",
    "            n1 = n2\n",
    "            n2 = nth\n",
    "            count += 1"
   ]
  },
  {
   "cell_type": "code",
   "execution_count": 3,
   "id": "0921898d-0ab6-4bc3-8367-af0095db5718",
   "metadata": {},
   "outputs": [
    {
     "name": "stdin",
     "output_type": "stream",
     "text": [
      "How many terms?  9\n"
     ]
    },
    {
     "name": "stdout",
     "output_type": "stream",
     "text": [
      "Fibonacci sequence:\n",
      "0 1 1 2 3 5 8 13 21 "
     ]
    }
   ],
   "source": [
    "fibonacci_sequence()"
   ]
  },
  {
   "cell_type": "code",
   "execution_count": null,
   "id": "35d62ec9-f800-48d2-bebb-2ce38fc94bb9",
   "metadata": {},
   "outputs": [],
   "source": []
  }
 ],
 "metadata": {
  "kernelspec": {
   "display_name": "Python 3 (ipykernel)",
   "language": "python",
   "name": "python3"
  },
  "language_info": {
   "codemirror_mode": {
    "name": "ipython",
    "version": 3
   },
   "file_extension": ".py",
   "mimetype": "text/x-python",
   "name": "python",
   "nbconvert_exporter": "python",
   "pygments_lexer": "ipython3",
   "version": "3.11.7"
  }
 },
 "nbformat": 4,
 "nbformat_minor": 5
}
