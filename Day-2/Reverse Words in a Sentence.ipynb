{
 "cells": [
  {
   "cell_type": "code",
   "execution_count": 1,
   "id": "639dfb60-eaff-4e37-a0cd-64820eb1dac8",
   "metadata": {},
   "outputs": [],
   "source": [
    "def reverse_words_in_sentence():\n",
    "    sentence = input(\"Enter a sentence: \")\n",
    "    reversed_sentence = ' '.join(sentence.split()[::-1])\n",
    "    print(reversed_sentence)"
   ]
  },
  {
   "cell_type": "code",
   "execution_count": 2,
   "id": "f8e53412-c572-4dc9-a22f-72315c5fbcd0",
   "metadata": {},
   "outputs": [
    {
     "name": "stdin",
     "output_type": "stream",
     "text": [
      "Enter a sentence:  hello world\n"
     ]
    },
    {
     "name": "stdout",
     "output_type": "stream",
     "text": [
      "world hello\n"
     ]
    }
   ],
   "source": [
    "reverse_words_in_sentence()"
   ]
  },
  {
   "cell_type": "code",
   "execution_count": null,
   "id": "80570bb6-0e00-45a7-9e4e-14ff71a9bf5b",
   "metadata": {},
   "outputs": [],
   "source": []
  }
 ],
 "metadata": {
  "kernelspec": {
   "display_name": "Python 3 (ipykernel)",
   "language": "python",
   "name": "python3"
  },
  "language_info": {
   "codemirror_mode": {
    "name": "ipython",
    "version": 3
   },
   "file_extension": ".py",
   "mimetype": "text/x-python",
   "name": "python",
   "nbconvert_exporter": "python",
   "pygments_lexer": "ipython3",
   "version": "3.11.7"
  }
 },
 "nbformat": 4,
 "nbformat_minor": 5
}
