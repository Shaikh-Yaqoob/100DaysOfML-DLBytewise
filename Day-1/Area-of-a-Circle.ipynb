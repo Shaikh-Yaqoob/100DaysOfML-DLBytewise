{
 "cells": [
  {
   "cell_type": "code",
   "execution_count": 1,
   "id": "7e1a290b-57bb-456f-8422-84f1b211f89f",
   "metadata": {},
   "outputs": [],
   "source": [
    "import math"
   ]
  },
  {
   "cell_type": "code",
   "execution_count": 3,
   "id": "57f09664-e846-4599-82c3-aa23ec38fcb8",
   "metadata": {},
   "outputs": [],
   "source": [
    "def area_of_circle():\n",
    "    radius = float(input(\"Enter the radius of the circle: \"))\n",
    "    area = math.pi * radius ** 2\n",
    "    print(\"The area of the circle is:\", area)"
   ]
  },
  {
   "cell_type": "code",
   "execution_count": 4,
   "id": "2312a350-c55b-4fd3-81d9-c88ad2c01afa",
   "metadata": {},
   "outputs": [
    {
     "name": "stdin",
     "output_type": "stream",
     "text": [
      "Enter the radius of the circle:  2\n"
     ]
    },
    {
     "name": "stdout",
     "output_type": "stream",
     "text": [
      "The area of the circle is: 12.566370614359172\n"
     ]
    }
   ],
   "source": [
    "area_of_circle()"
   ]
  },
  {
   "cell_type": "code",
   "execution_count": null,
   "id": "e7d1bea8-0124-4bff-b0bb-c6254b1bd64d",
   "metadata": {},
   "outputs": [],
   "source": []
  }
 ],
 "metadata": {
  "kernelspec": {
   "display_name": "Python 3 (ipykernel)",
   "language": "python",
   "name": "python3"
  },
  "language_info": {
   "codemirror_mode": {
    "name": "ipython",
    "version": 3
   },
   "file_extension": ".py",
   "mimetype": "text/x-python",
   "name": "python",
   "nbconvert_exporter": "python",
   "pygments_lexer": "ipython3",
   "version": "3.11.7"
  }
 },
 "nbformat": 4,
 "nbformat_minor": 5
}
