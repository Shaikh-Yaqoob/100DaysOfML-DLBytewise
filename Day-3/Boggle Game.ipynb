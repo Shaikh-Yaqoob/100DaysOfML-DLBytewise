{
 "cells": [
  {
   "cell_type": "code",
   "execution_count": 1,
   "id": "804d5adf-b791-43ce-8526-672177bc6306",
   "metadata": {},
   "outputs": [],
   "source": [
    "class Boggle:\n",
    "    def __init__(self, board, words):\n",
    "        self.board = board\n",
    "        self.words = words\n",
    "        self.result = set()\n",
    "\n",
    "    def find_words(self):\n",
    "        for word in self.words:\n",
    "            if self.exists(word):\n",
    "                self.result.add(word)\n",
    "        return self.result\n",
    "\n",
    "    def exists(self, word):\n",
    "        for i in range(len(self.board)):\n",
    "            for j in range(len(self.board[0])):\n",
    "                if self.dfs(i, j, word):\n",
    "                    return True\n",
    "        return False\n",
    "\n",
    "    def dfs(self, i, j, word):\n",
    "        if len(word) == 0:\n",
    "            return True\n",
    "        if i < 0 or i >= len(self.board) or j < 0 or j >= len(self.board[0]) or self.board[i][j] != word[0]:\n",
    "            return False\n",
    "        temp = self.board[i][j]\n",
    "        self.board[i][j] = '#'\n",
    "        res = self.dfs(i + 1, j, word[1:]) or self.dfs(i - 1, j, word[1:]) or self.dfs(i, j + 1, word[1:]) or self.dfs(i, j - 1, word[1:])\n",
    "        self.board[i][j] = temp\n",
    "        return res"
   ]
  },
  {
   "cell_type": "code",
   "execution_count": 2,
   "id": "78821b01-5c76-4687-bd2b-18d75ac407cf",
   "metadata": {},
   "outputs": [
    {
     "name": "stdout",
     "output_type": "stream",
     "text": [
      "\n",
      "Words found in the Boggle board: {'IN', 'BANE'}\n"
     ]
    }
   ],
   "source": [
    "board = [\n",
    "    ['B', 'A', 'N', 'E'],\n",
    "    ['E', 'R', 'N', 'I'],\n",
    "    ['I', 'N', 'O', 'T'],\n",
    "    ['L', 'P', 'Y', 'A']\n",
    "]\n",
    "words = [\"BANE\", \"IN\", \"NOTE\", \"PIN\"]\n",
    "boggle = Boggle(board, words)\n",
    "print(f\"\\nWords found in the Boggle board: {boggle.find_words()}\")"
   ]
  },
  {
   "cell_type": "code",
   "execution_count": null,
   "id": "51173853-e65d-4ddf-8ad0-4a71f881e4a7",
   "metadata": {},
   "outputs": [],
   "source": []
  }
 ],
 "metadata": {
  "kernelspec": {
   "display_name": "Python 3 (ipykernel)",
   "language": "python",
   "name": "python3"
  },
  "language_info": {
   "codemirror_mode": {
    "name": "ipython",
    "version": 3
   },
   "file_extension": ".py",
   "mimetype": "text/x-python",
   "name": "python",
   "nbconvert_exporter": "python",
   "pygments_lexer": "ipython3",
   "version": "3.11.7"
  }
 },
 "nbformat": 4,
 "nbformat_minor": 5
}
