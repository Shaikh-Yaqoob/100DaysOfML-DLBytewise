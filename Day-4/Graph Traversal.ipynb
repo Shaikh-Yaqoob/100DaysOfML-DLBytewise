{
 "cells": [
  {
   "cell_type": "code",
   "execution_count": 1,
   "id": "3a303652-4605-4a4a-805a-04a04da3fdd3",
   "metadata": {},
   "outputs": [],
   "source": [
    "from collections import defaultdict, deque\n",
    "\n",
    "def bfs(graph, start):\n",
    "    visited = set()\n",
    "    queue = deque([start])\n",
    "    result = []\n",
    "\n",
    "    while queue:\n",
    "        vertex = queue.popleft()\n",
    "        if vertex not in visited:\n",
    "            visited.add(vertex)\n",
    "            result.append(vertex)\n",
    "            queue.extend(graph[vertex] - visited)\n",
    "\n",
    "    return result\n",
    "\n",
    "def dfs(graph, start):\n",
    "    visited = set()\n",
    "    stack = [start]\n",
    "    result = []\n",
    "\n",
    "    while stack:\n",
    "        vertex = stack.pop()\n",
    "        if vertex not in visited:\n",
    "            visited.add(vertex)\n",
    "            result.append(vertex)\n",
    "            stack.extend(graph[vertex] - visited)\n",
    "\n",
    "    return result"
   ]
  },
  {
   "cell_type": "code",
   "execution_count": 2,
   "id": "6fc5043b-366c-46a9-b408-c5f5f1646a42",
   "metadata": {},
   "outputs": [
    {
     "name": "stdout",
     "output_type": "stream",
     "text": [
      "BFS starting from node 2: [2, 0, 3, 1]\n",
      "DFS starting from node 2: [2, 3, 0, 1]\n"
     ]
    }
   ],
   "source": [
    "graph = {\n",
    "    0: {1, 2},\n",
    "    1: {2},\n",
    "    2: {0, 3},\n",
    "    3: {3}\n",
    "}\n",
    "start_node = 2\n",
    "print(f\"BFS starting from node {start_node}: {bfs(graph, start_node)}\")\n",
    "print(f\"DFS starting from node {start_node}: {dfs(graph, start_node)}\")\n"
   ]
  },
  {
   "cell_type": "code",
   "execution_count": null,
   "id": "3a8c8e1a-299c-4d2a-a066-81291244aa9f",
   "metadata": {},
   "outputs": [],
   "source": []
  }
 ],
 "metadata": {
  "kernelspec": {
   "display_name": "Python 3 (ipykernel)",
   "language": "python",
   "name": "python3"
  },
  "language_info": {
   "codemirror_mode": {
    "name": "ipython",
    "version": 3
   },
   "file_extension": ".py",
   "mimetype": "text/x-python",
   "name": "python",
   "nbconvert_exporter": "python",
   "pygments_lexer": "ipython3",
   "version": "3.11.7"
  }
 },
 "nbformat": 4,
 "nbformat_minor": 5
}
