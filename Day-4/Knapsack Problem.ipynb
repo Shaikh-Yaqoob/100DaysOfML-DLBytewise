{
 "cells": [
  {
   "cell_type": "code",
   "execution_count": 1,
   "id": "5b28804d-2345-46ba-ac50-3f6fc3cbe378",
   "metadata": {},
   "outputs": [],
   "source": [
    "def knapsack(weights, values, capacity):\n",
    "    n = len(weights)\n",
    "    dp = [[0] * (capacity + 1) for _ in range(n + 1)]\n",
    "\n",
    "    for i in range(1, n + 1):\n",
    "        for w in range(1, capacity + 1):\n",
    "            if weights[i - 1] > w:\n",
    "                dp[i][w] = dp[i - 1][w]\n",
    "            else:\n",
    "                dp[i][w] = max(dp[i - 1][w], values[i - 1] + dp[i - 1][w - weights[i - 1]])\n",
    "\n",
    "    return dp[n][capacity]"
   ]
  },
  {
   "cell_type": "code",
   "execution_count": 2,
   "id": "00640536-9cd8-453e-aa28-e6c4084dd714",
   "metadata": {},
   "outputs": [
    {
     "name": "stdout",
     "output_type": "stream",
     "text": [
      "Maximum value in 0/1 Knapsack: 9\n"
     ]
    }
   ],
   "source": [
    "weights = [1, 3, 4, 5]\n",
    "values = [1, 4, 5, 7]\n",
    "capacity = 7\n",
    "print(f\"Maximum value in 0/1 Knapsack: {knapsack(weights, values, capacity)}\")"
   ]
  },
  {
   "cell_type": "code",
   "execution_count": null,
   "id": "61d75784-c24e-4dff-b15c-3c8d211c4c32",
   "metadata": {},
   "outputs": [],
   "source": []
  }
 ],
 "metadata": {
  "kernelspec": {
   "display_name": "Python 3 (ipykernel)",
   "language": "python",
   "name": "python3"
  },
  "language_info": {
   "codemirror_mode": {
    "name": "ipython",
    "version": 3
   },
   "file_extension": ".py",
   "mimetype": "text/x-python",
   "name": "python",
   "nbconvert_exporter": "python",
   "pygments_lexer": "ipython3",
   "version": "3.11.7"
  }
 },
 "nbformat": 4,
 "nbformat_minor": 5
}
