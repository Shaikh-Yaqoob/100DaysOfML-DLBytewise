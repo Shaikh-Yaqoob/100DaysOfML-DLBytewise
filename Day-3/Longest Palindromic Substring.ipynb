{
 "cells": [
  {
   "cell_type": "code",
   "execution_count": 1,
   "id": "8d13ad67-8b0e-4aa0-a022-c6f39b9a6dad",
   "metadata": {},
   "outputs": [],
   "source": [
    "def longest_palindromic_substring(s):\n",
    "    if not s:\n",
    "        return \"\"\n",
    "    n = len(s)\n",
    "    start, end = 0, 0\n",
    "    for i in range(n):\n",
    "        len1 = expand_around_center(s, i, i)\n",
    "        len2 = expand_around_center(s, i, i + 1)\n",
    "        max_len = max(len1, len2)\n",
    "        if max_len > end - start:\n",
    "            start = i - (max_len - 1) // 2\n",
    "            end = i + max_len // 2\n",
    "    return s[start:end + 1]\n",
    "\n",
    "def expand_around_center(s, left, right):\n",
    "    L, R = left, right\n",
    "    while L >= 0 and R < len(s) and s[L] == s[R]:\n",
    "        L -= 1\n",
    "        R += 1\n",
    "    return R - L - 1"
   ]
  },
  {
   "cell_type": "code",
   "execution_count": 2,
   "id": "55251dc0-1d3c-403e-b18f-5762b7b41846",
   "metadata": {},
   "outputs": [
    {
     "name": "stdout",
     "output_type": "stream",
     "text": [
      "\n",
      "Longest palindromic substring in 'babad' is 'aba'\n"
     ]
    }
   ],
   "source": [
    "s = \"babad\"\n",
    "print(f\"\\nLongest palindromic substring in '{s}' is '{longest_palindromic_substring(s)}'\")"
   ]
  },
  {
   "cell_type": "code",
   "execution_count": null,
   "id": "2246d7e0-3c50-4a68-a4fb-6006ae2b8839",
   "metadata": {},
   "outputs": [],
   "source": []
  }
 ],
 "metadata": {
  "kernelspec": {
   "display_name": "Python 3 (ipykernel)",
   "language": "python",
   "name": "python3"
  },
  "language_info": {
   "codemirror_mode": {
    "name": "ipython",
    "version": 3
   },
   "file_extension": ".py",
   "mimetype": "text/x-python",
   "name": "python",
   "nbconvert_exporter": "python",
   "pygments_lexer": "ipython3",
   "version": "3.11.7"
  }
 },
 "nbformat": 4,
 "nbformat_minor": 5
}
