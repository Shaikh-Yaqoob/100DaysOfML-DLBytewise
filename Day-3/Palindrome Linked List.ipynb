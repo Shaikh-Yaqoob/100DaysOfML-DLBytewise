{
 "cells": [
  {
   "cell_type": "code",
   "execution_count": 1,
   "id": "457162b8-20f6-4379-99b0-f2fca436b134",
   "metadata": {},
   "outputs": [],
   "source": [
    "class ListNode:\n",
    "    def __init__(self, val=0, next=None):\n",
    "        self.val = val\n",
    "        self.next = next\n",
    "\n",
    "def is_palindrome_linked_list(head):\n",
    "    vals = []\n",
    "    while head:\n",
    "        vals.append(head.val)\n",
    "        head = head.next\n",
    "    return vals == vals[::-1]"
   ]
  },
  {
   "cell_type": "code",
   "execution_count": 3,
   "id": "b1aa5f51-b42c-4f2e-a9bb-0f3158458970",
   "metadata": {},
   "outputs": [
    {
     "name": "stdout",
     "output_type": "stream",
     "text": [
      "The linked list is a palindrome.\n"
     ]
    }
   ],
   "source": [
    "nodes = [1, 2, 3, 2, 1]\n",
    "head = ListNode(nodes[0])\n",
    "current = head\n",
    "for val in nodes[1:]:\n",
    "    current.next = ListNode(val)\n",
    "    current = current.next\n",
    "print(\"The linked list is a palindrome.\" if is_palindrome_linked_list(head) else \"The linked list is not a palindrome.\")"
   ]
  },
  {
   "cell_type": "code",
   "execution_count": null,
   "id": "8f7207a2-34ad-4c59-b696-87c1826774fb",
   "metadata": {},
   "outputs": [],
   "source": []
  }
 ],
 "metadata": {
  "kernelspec": {
   "display_name": "Python 3 (ipykernel)",
   "language": "python",
   "name": "python3"
  },
  "language_info": {
   "codemirror_mode": {
    "name": "ipython",
    "version": 3
   },
   "file_extension": ".py",
   "mimetype": "text/x-python",
   "name": "python",
   "nbconvert_exporter": "python",
   "pygments_lexer": "ipython3",
   "version": "3.11.7"
  }
 },
 "nbformat": 4,
 "nbformat_minor": 5
}
