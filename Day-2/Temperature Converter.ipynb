{
 "cells": [
  {
   "cell_type": "code",
   "execution_count": 1,
   "id": "bb7e0433-eed8-48f0-9d36-939bb2c5332a",
   "metadata": {},
   "outputs": [],
   "source": [
    "def temperature_converter():\n",
    "    temp = float(input(\"Enter the temperature: \"))\n",
    "    unit = input(\"Enter the unit (Celsius, Fahrenheit, Kelvin): \").lower()\n",
    "\n",
    "    if unit == \"celsius\":\n",
    "        fahrenheit = temp * 9/5 + 32\n",
    "        kelvin = temp + 273.15\n",
    "        print(f\"{temp} degrees Celsius is equal to {fahrenheit} degrees Fahrenheit and {kelvin} degrees Kelvin.\")\n",
    "    elif unit == \"fahrenheit\":\n",
    "        celsius = (temp - 32) * 5/9\n",
    "        kelvin = (temp + 459.67) * 5/9\n",
    "        print(f\"{temp} degrees Fahrenheit is equal to {celsius} degrees Celsius and {kelvin} degrees Kelvin.\")\n",
    "    elif unit == \"kelvin\":\n",
    "        celsius = temp - 273.15\n",
    "        fahrenheit = temp * 9/5 - 459.67\n",
    "        print(f\"{temp} degrees Kelvin is equal to {celsius} degrees Celsius and {fahrenheit} degrees Fahrenheit.\")\n",
    "    else:\n",
    "        print(\"Invalid unit.\")\n"
   ]
  },
  {
   "cell_type": "code",
   "execution_count": 2,
   "id": "1c9e2b9b-f874-48ac-86e1-ac1cf5f45794",
   "metadata": {},
   "outputs": [
    {
     "name": "stdin",
     "output_type": "stream",
     "text": [
      "Enter the temperature:  60\n",
      "Enter the unit (Celsius, Fahrenheit, Kelvin):  Kelvin\n"
     ]
    },
    {
     "name": "stdout",
     "output_type": "stream",
     "text": [
      "60.0 degrees Kelvin is equal to -213.14999999999998 degrees Celsius and -351.67 degrees Fahrenheit.\n"
     ]
    }
   ],
   "source": [
    "temperature_converter()"
   ]
  },
  {
   "cell_type": "code",
   "execution_count": null,
   "id": "11cea360-1c5e-45e9-82bc-5ee7328e04c0",
   "metadata": {},
   "outputs": [],
   "source": []
  }
 ],
 "metadata": {
  "kernelspec": {
   "display_name": "Python 3 (ipykernel)",
   "language": "python",
   "name": "python3"
  },
  "language_info": {
   "codemirror_mode": {
    "name": "ipython",
    "version": 3
   },
   "file_extension": ".py",
   "mimetype": "text/x-python",
   "name": "python",
   "nbconvert_exporter": "python",
   "pygments_lexer": "ipython3",
   "version": "3.11.7"
  }
 },
 "nbformat": 4,
 "nbformat_minor": 5
}
