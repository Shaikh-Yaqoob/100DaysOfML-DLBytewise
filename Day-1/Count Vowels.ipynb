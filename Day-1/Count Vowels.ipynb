{
 "cells": [
  {
   "cell_type": "code",
   "execution_count": 1,
   "id": "dadb000b-afc0-46fb-b406-4ce80d9a008d",
   "metadata": {},
   "outputs": [],
   "source": [
    "def count_vowels():\n",
    "    user_string = input(\"Enter a string: \")\n",
    "    vowels = \"aeiouAEIOU\"\n",
    "    count = sum(1 for char in user_string if char in vowels)\n",
    "    print(\"The number of vowels is:\", count)"
   ]
  },
  {
   "cell_type": "code",
   "execution_count": 2,
   "id": "6f8a57b6-7f2c-4601-8cb3-e7e2e2a29243",
   "metadata": {},
   "outputs": [
    {
     "name": "stdin",
     "output_type": "stream",
     "text": [
      "Enter a string:  yaqoob\n"
     ]
    },
    {
     "name": "stdout",
     "output_type": "stream",
     "text": [
      "The number of vowels is: 3\n"
     ]
    }
   ],
   "source": [
    "count_vowels()"
   ]
  },
  {
   "cell_type": "code",
   "execution_count": null,
   "id": "acf663a1-81ff-4b21-8155-c5fac4bfee1e",
   "metadata": {},
   "outputs": [],
   "source": []
  }
 ],
 "metadata": {
  "kernelspec": {
   "display_name": "Python 3 (ipykernel)",
   "language": "python",
   "name": "python3"
  },
  "language_info": {
   "codemirror_mode": {
    "name": "ipython",
    "version": 3
   },
   "file_extension": ".py",
   "mimetype": "text/x-python",
   "name": "python",
   "nbconvert_exporter": "python",
   "pygments_lexer": "ipython3",
   "version": "3.11.7"
  }
 },
 "nbformat": 4,
 "nbformat_minor": 5
}
