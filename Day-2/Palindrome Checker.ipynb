{
 "cells": [
  {
   "cell_type": "code",
   "execution_count": 1,
   "id": "d0abcad3-e137-41f1-ba82-b0873b73ba59",
   "metadata": {},
   "outputs": [],
   "source": [
    "def palindrome_checker_word():\n",
    "    word = input(\"Enter a word: \")\n",
    "    if word == word[::-1]:\n",
    "        print(f\"{word} is a palindrome.\")\n",
    "    else:\n",
    "        print(f\"{word} is not a palindrome.\")"
   ]
  },
  {
   "cell_type": "code",
   "execution_count": 4,
   "id": "c98d0d3c-0beb-47b9-8652-1f532a801674",
   "metadata": {},
   "outputs": [
    {
     "name": "stdin",
     "output_type": "stream",
     "text": [
      "Enter a word:  wow\n"
     ]
    },
    {
     "name": "stdout",
     "output_type": "stream",
     "text": [
      "wow is a palindrome.\n"
     ]
    }
   ],
   "source": [
    "palindrome_checker_word()"
   ]
  },
  {
   "cell_type": "code",
   "execution_count": null,
   "id": "c851a9fe-20c1-40a3-af21-a02df0bddb9d",
   "metadata": {},
   "outputs": [],
   "source": []
  }
 ],
 "metadata": {
  "kernelspec": {
   "display_name": "Python 3 (ipykernel)",
   "language": "python",
   "name": "python3"
  },
  "language_info": {
   "codemirror_mode": {
    "name": "ipython",
    "version": 3
   },
   "file_extension": ".py",
   "mimetype": "text/x-python",
   "name": "python",
   "nbconvert_exporter": "python",
   "pygments_lexer": "ipython3",
   "version": "3.11.7"
  }
 },
 "nbformat": 4,
 "nbformat_minor": 5
}
