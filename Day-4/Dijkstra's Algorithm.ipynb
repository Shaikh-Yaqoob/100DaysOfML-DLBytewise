{
 "cells": [
  {
   "cell_type": "code",
   "execution_count": 1,
   "id": "6d9d33f6-6895-41ad-9fe3-7d4144c6730d",
   "metadata": {},
   "outputs": [],
   "source": [
    "import heapq\n",
    "\n",
    "def dijkstra(graph, start):\n",
    "    distances = {node: float('infinity') for node in graph}\n",
    "    distances[start] = 0\n",
    "    priority_queue = [(0, start)]\n",
    "\n",
    "    while priority_queue:\n",
    "        current_distance, current_node = heapq.heappop(priority_queue)\n",
    "\n",
    "        if current_distance > distances[current_node]:\n",
    "            continue\n",
    "\n",
    "        for neighbor, weight in graph[current_node].items():\n",
    "            distance = current_distance + weight\n",
    "\n",
    "            if distance < distances[neighbor]:\n",
    "                distances[neighbor] = distance\n",
    "                heapq.heappush(priority_queue, (distance, neighbor))\n",
    "\n",
    "    return distances"
   ]
  },
  {
   "cell_type": "code",
   "execution_count": 2,
   "id": "260aa025-d2bd-4d31-8949-e7532dad28bc",
   "metadata": {},
   "outputs": [
    {
     "name": "stdout",
     "output_type": "stream",
     "text": [
      "Shortest distances from node A: {'A': 0, 'B': 1, 'C': 3, 'D': 4}\n"
     ]
    }
   ],
   "source": [
    "graph = {\n",
    "    'A': {'B': 1, 'C': 4},\n",
    "    'B': {'C': 2, 'D': 5},\n",
    "    'C': {'D': 1},\n",
    "    'D': {}\n",
    "}\n",
    "start_node = 'A'\n",
    "print(f\"Shortest distances from node {start_node}: {dijkstra(graph, start_node)}\")"
   ]
  },
  {
   "cell_type": "code",
   "execution_count": null,
   "id": "291e6d60-d8c8-4682-be3e-4c9d1e64804e",
   "metadata": {},
   "outputs": [],
   "source": []
  }
 ],
 "metadata": {
  "kernelspec": {
   "display_name": "Python 3 (ipykernel)",
   "language": "python",
   "name": "python3"
  },
  "language_info": {
   "codemirror_mode": {
    "name": "ipython",
    "version": 3
   },
   "file_extension": ".py",
   "mimetype": "text/x-python",
   "name": "python",
   "nbconvert_exporter": "python",
   "pygments_lexer": "ipython3",
   "version": "3.11.7"
  }
 },
 "nbformat": 4,
 "nbformat_minor": 5
}
